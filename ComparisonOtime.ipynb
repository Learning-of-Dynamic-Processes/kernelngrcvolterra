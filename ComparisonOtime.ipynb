{
 "cells": [
  {
   "cell_type": "markdown",
   "metadata": {},
   "source": []
  },
  {
   "cell_type": "code",
   "execution_count": 13,
   "metadata": {},
   "outputs": [],
   "source": [
    "import numpy as np\n",
    "import math\n",
    "import matplotlib.pyplot as plt\n",
    "\n",
    "n = 3007\n",
    "d = 15\n",
    "tau_range = np.arange(1, 10, 1)\n",
    "p_range = np.arange(1, 10)\n",
    "O_vals_ngrc = np.zeros((len(tau_range), len(p_range)))\n",
    "O_vals_poly = np.zeros(((len(tau_range), len(p_range))))\n",
    "for tau_id, tau in enumerate(tau_range):\n",
    "    for p_id, p in enumerate(p_range):\n",
    "        N = math.comb(tau*d + p, p)\n",
    "        O_vals_ngrc[tau_id, p_id] = n * (N**2) + N**3\n",
    "        O_vals_poly[tau_id, p_id] = n * tau * d + n**3\n",
    "O_vals_diff = O_vals_ngrc - O_vals_poly"
   ]
  },
  {
   "cell_type": "code",
   "execution_count": 14,
   "metadata": {},
   "outputs": [],
   "source": [
    "import numpy as np\n",
    "import math\n",
    "import matplotlib.pyplot as plt\n",
    "\n",
    "n = 3007\n",
    "d = 15\n",
    "tau_range = np.arange(1, 10, 1)\n",
    "p_range = np.arange(1, 10)\n",
    "O_vals_ngrc = np.zeros((len(tau_range), len(p_range)))\n",
    "O_vals_poly = np.zeros(((len(tau_range), len(p_range))))\n",
    "for tau_id, tau in enumerate(tau_range):\n",
    "    for p_id, p in enumerate(p_range):\n",
    "        N = math.comb(tau*d + p, p)\n",
    "        O_vals_ngrc[tau_id, p_id] = N\n",
    "        O_vals_poly[tau_id, p_id] = n * tau * d\n",
    "O_vals_diff = O_vals_ngrc - O_vals_poly"
   ]
  },
  {
   "cell_type": "code",
   "execution_count": 15,
   "metadata": {},
   "outputs": [],
   "source": [
    "import numpy as np\n",
    "import math\n",
    "import matplotlib.pyplot as plt\n",
    "\n",
    "n = 5000\n",
    "d = 3\n",
    "tau_range = np.arange(1, 10, 1)\n",
    "p_range = np.arange(1, 10)\n",
    "O_vals_ngrc = np.zeros((len(tau_range), len(p_range)))\n",
    "O_vals_poly = np.zeros(((len(tau_range), len(p_range))))\n",
    "for tau_id, tau in enumerate(tau_range):\n",
    "    for p_id, p in enumerate(p_range):\n",
    "        N = math.comb(tau*d + p, p)\n",
    "        O_vals_ngrc[tau_id, p_id] = n * (N**2) + N**3\n",
    "        O_vals_poly[tau_id, p_id] = n * tau * d + n**3\n",
    "O_vals_diff = O_vals_ngrc - O_vals_poly"
   ]
  },
  {
   "cell_type": "code",
   "execution_count": 17,
   "metadata": {},
   "outputs": [],
   "source": [
    "import numpy as np\n",
    "import math\n",
    "import matplotlib.pyplot as plt\n",
    "\n",
    "n = 10000\n",
    "d = 3\n",
    "tau_range = np.arange(1, 10, 1)\n",
    "p_range = np.arange(1, 10)\n",
    "O_vals_ngrc = np.zeros((len(tau_range), len(p_range)))\n",
    "O_vals_poly = np.zeros(((len(tau_range), len(p_range))))\n",
    "for tau_id, tau in enumerate(tau_range):\n",
    "    for p_id, p in enumerate(p_range):\n",
    "        N = math.comb(tau*d + p, p)\n",
    "        O_vals_ngrc[tau_id, p_id] = N\n",
    "        O_vals_poly[tau_id, p_id] = n * tau * d \n",
    "O_vals_diff = O_vals_ngrc - O_vals_poly"
   ]
  },
  {
   "cell_type": "code",
   "execution_count": 21,
   "metadata": {},
   "outputs": [],
   "source": [
    "import numpy as np\n",
    "import math\n",
    "import matplotlib.pyplot as plt\n",
    "\n",
    "n = 3000\n",
    "d = 1\n",
    "tau_range = np.arange(1, 101, 1)\n",
    "p_range = np.arange(1, 15, 1)\n",
    "O_vals_ngrc = np.zeros((len(tau_range), len(p_range)))\n",
    "O_vals_poly = np.zeros(((len(tau_range), len(p_range))))\n",
    "for tau_id, tau in enumerate(tau_range):\n",
    "    for p_id, p in enumerate(p_range):\n",
    "        N = math.comb(tau*d + p, p)\n",
    "        O_vals_ngrc[tau_id, p_id] = n * (N**2) + N**3\n",
    "        O_vals_poly[tau_id, p_id] = n * tau * d + n**3 \n",
    "O_vals_diff = O_vals_ngrc - O_vals_poly"
   ]
  },
  {
   "cell_type": "code",
   "execution_count": null,
   "metadata": {},
   "outputs": [],
   "source": []
  }
 ],
 "metadata": {
  "kernelspec": {
   "display_name": ".venv",
   "language": "python",
   "name": "python3"
  },
  "language_info": {
   "codemirror_mode": {
    "name": "ipython",
    "version": 3
   },
   "file_extension": ".py",
   "mimetype": "text/x-python",
   "name": "python",
   "nbconvert_exporter": "python",
   "pygments_lexer": "ipython3",
   "version": "3.12.2"
  }
 },
 "nbformat": 4,
 "nbformat_minor": 2
}
